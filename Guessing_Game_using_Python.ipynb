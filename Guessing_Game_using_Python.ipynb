{
 "cells": [
  {
   "cell_type": "markdown",
   "metadata": {
    "id": "e6v7MCfm_XcR"
   },
   "source": [
    "# Guessing Game Challenge\n",
    "\n",
    "Let's use `while` loops to create a guessing game.\n",
    "\n",
    "The Challenge:\n",
    "\n",
    "Write a program that picks a random integer from 1 to 100, and has players guess the number. The rules are:\n",
    "\n",
    "1. If a player's guess is less than 1 or greater than 100, say \"OUT OF BOUNDS\"\n",
    "2. On a player's first turn, if their guess is\n",
    " * within 10 of the number, return \"WARM!\"\n",
    " * further than 10 away from the number, return \"COLD!\"\n",
    "3. On all subsequent turns, if a guess is \n",
    " * closer to the number than the previous guess return \"WARMER!\"\n",
    " * farther from the number than the previous guess, return \"COLDER!\"\n",
    "4. When the player's guess equals the number, tell them they've guessed correctly *and* how many guesses it took!\n",
    "\n"
   ]
  },
  {
   "cell_type": "markdown",
   "metadata": {
    "id": "LB0ilx0p_hGP"
   },
   "source": [
    "Solution "
   ]
  },
  {
   "cell_type": "code",
   "execution_count": 1,
   "metadata": {
    "id": "ZMDDNPrq_Xcn"
   },
   "outputs": [],
   "source": [
    "# importing randint from random module \n",
    "from random import randint"
   ]
  },
  {
   "cell_type": "code",
   "execution_count": 4,
   "metadata": {
    "id": "4RplhVC__Xcu"
   },
   "outputs": [],
   "source": [
    "def guessing_game():\n",
    "    guesses = [0]\n",
    "    num = randint(1,100)\n",
    "    print(\"Let's play the Guessing Number Game:\")\n",
    "    print(\"I am thinking a number\")\n",
    "    print(\"You have to guess the number \\n Let's Start:\")\n",
    "    while True:\n",
    "        guess=int(input(\"Enter your guess: \"))\n",
    "        if guess <=0 or guess>100:\n",
    "            print(\"OUT OF BOUNDS!! \\n Try again: \")\n",
    "            continue\n",
    "        elif guess == num:\n",
    "            print(\"Congratulations, you guess correct number in \",len(guesses),\" guesses\")\n",
    "            break\n",
    "\n",
    "        guesses+=[guess]\n",
    "        if guesses[-2]==0:\n",
    "            if abs(guesses[-1]-num) <= 10:\n",
    "                print(\"WARM!!! You are close to number\")\n",
    "                continue\n",
    "            else:\n",
    "                print(\"COLD!! You are long from number\")\n",
    "                continue\n",
    "        elif abs(guesses[-2]-num)> abs(guess-num):\n",
    "            print(\"WARMER!!! You are closer to number\")\n",
    "            continue\n",
    "        else:\n",
    "            print(\"COLDER!!! you are too far from number\")\n",
    "            continue\n",
    "\n",
    "    "
   ]
  },
  {
   "cell_type": "code",
   "execution_count": 7,
   "metadata": {
    "colab": {
     "base_uri": "https://localhost:8080/"
    },
    "id": "Id73V7Mk_Xcv",
    "outputId": "ad4b3004-3d2e-4da5-a6ad-73085f0b2d2a"
   },
   "outputs": [
    {
     "name": "stdout",
     "output_type": "stream",
     "text": [
      "Let's play the Guessing Number Game:\n",
      "I am thinking a number\n",
      "You have to guess the number \n",
      " Let's Start:\n",
      "Enter your guess: 20\n",
      "COLD!! You are long from number\n",
      "Enter your guess: 70\n",
      "WARMER!!! You are closer to number\n",
      "Enter your guess: 75\n",
      "WARMER!!! You are closer to number\n",
      "Enter your guess: 85\n",
      "WARMER!!! You are closer to number\n",
      "Enter your guess: 99\n",
      "COLDER!!! you are too far from number\n",
      "Enter your guess: 88\n",
      "WARMER!!! You are closer to number\n",
      "Enter your guess: 90\n",
      "COLDER!!! you are too far from number\n",
      "Enter your guess: 86\n",
      "WARMER!!! You are closer to number\n",
      "Enter your guess: 82\n",
      "COLDER!!! you are too far from number\n",
      "Enter your guess: 87\n",
      "Congratulations, you guess correct number in  10  guesses\n"
     ]
    }
   ],
   "source": [
    "guessing_game()"
   ]
  },
  {
   "cell_type": "code",
   "execution_count": null,
   "metadata": {
    "id": "wVxFk9go_Xcv"
   },
   "outputs": [],
   "source": []
  }
 ],
 "metadata": {
  "colab": {
   "provenance": []
  },
  "kernelspec": {
   "display_name": "Python 3 (ipykernel)",
   "language": "python",
   "name": "python3"
  },
  "language_info": {
   "codemirror_mode": {
    "name": "ipython",
    "version": 3
   },
   "file_extension": ".py",
   "mimetype": "text/x-python",
   "name": "python",
   "nbconvert_exporter": "python",
   "pygments_lexer": "ipython3",
   "version": "3.11.3"
  }
 },
 "nbformat": 4,
 "nbformat_minor": 1
}
